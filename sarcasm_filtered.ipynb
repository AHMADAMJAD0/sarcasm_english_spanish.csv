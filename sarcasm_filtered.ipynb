{
  "nbformat": 4,
  "nbformat_minor": 0,
  "metadata": {
    "colab": {
      "provenance": []
    },
    "kernelspec": {
      "name": "python3",
      "display_name": "Python 3"
    },
    "language_info": {
      "name": "python"
    }
  },
  "cells": [
    {
      "cell_type": "code",
      "execution_count": 1,
      "metadata": {
        "colab": {
          "base_uri": "https://localhost:8080/"
        },
        "id": "-CchvzL5_f18",
        "outputId": "6d715b52-beae-4168-8746-1c69adeb7230"
      },
      "outputs": [
        {
          "output_type": "stream",
          "name": "stdout",
          "text": [
            "Original file: 5233 rows\n",
            "Sarcasm rows found: 692\n",
            "✅ New file created: sarcasm_filtered.csv\n",
            "✅ Contains: 692 sarcasm rows\n",
            "\n",
            "Sarcasm examples:\n",
            "1. it'd be nice if missguided actually had stock for once������������...\n",
            "2. Find me a mass shooting in Utah where concealed carry on campus is legal....\n",
            "3. Oh, I LOVE semantics games Well, viability now is around 23-25 weeks gestation a...\n",
            "\n",
            "🎯 DONE! Your sarcasm file is ready!\n"
          ]
        }
      ],
      "source": [
        "import pandas as pd\n",
        "\n",
        "# Read original file\n",
        "df = pd.read_csv('en_train.csv')\n",
        "\n",
        "print(f\"Original file: {len(df)} rows\")\n",
        "\n",
        "# Filter rows with sarcasm\n",
        "sarcasm_data = df[df['multiclass'] == 'Sarcasm'].copy()\n",
        "\n",
        "print(f\"Sarcasm rows found: {len(sarcasm_data)}\")\n",
        "\n",
        "# Save to new file\n",
        "sarcasm_data.to_csv('sarcasm_filtered.csv', index=False)\n",
        "\n",
        "print(f\"✅ New file created: sarcasm_filtered.csv\")\n",
        "print(f\"✅ Contains: {len(sarcasm_data)} sarcasm rows\")\n",
        "\n",
        "# Show examples\n",
        "print(\"\\nSarcasm examples:\")\n",
        "for i in range(min(3, len(sarcasm_data))):\n",
        "    print(f\"{i+1}. {sarcasm_data.iloc[i]['text'][:80]}...\")\n",
        "\n",
        "print(f\"\\n🎯 DONE! Your sarcasm file is ready!\")"
      ]
    },
    {
      "cell_type": "code",
      "source": [],
      "metadata": {
        "id": "cP4NKpGn_nX2"
      },
      "execution_count": null,
      "outputs": []
    }
  ]
}